{
 "cells": [
  {
   "cell_type": "markdown",
   "id": "d3bfc191-8885-42ee-b0a0-bbab867c6f9f",
   "metadata": {
    "tags": []
   },
   "source": [
    "# Lab | Flow Control"
   ]
  },
  {
   "cell_type": "markdown",
   "id": "3851fcd1-cf98-4653-9c89-e003b7ec9400",
   "metadata": {},
   "source": [
    "## Exercise: Managing Customer Orders Optimized\n",
    "\n",
    "In the last lab, you were starting an online store that sells various products. To ensure smooth operations, you developed a program that manages customer orders and inventory.\n",
    "\n",
    "You did so without using flow control. Let's go a step further and improve this code.\n",
    "\n",
    "Follow the steps below to complete the exercise:\n",
    "\n",
    "1. Look at your code from the lab data structures, and improve repeated code with loops.\n",
    "\n",
    "2. Instead of asking the user to input the name of three products that a customer wants to order, do the following:\n",
    "    \n",
    "    a. Prompt the user to enter the name of a product that a customer wants to order.\n",
    "    \n",
    "    b. Add the product name to the \"customer_orders\" set.\n",
    "    \n",
    "    c. Ask the user if they want to add another product (yes/no).\n",
    "    \n",
    "    d. Continue the loop until the user does not want to add another product.\n",
    "\n",
    "3. Instead of updating the inventory by subtracting 1 from the quantity of each product, only do it for  the products that were ordered (those in \"customer_orders\")."
   ]
  },
  {
   "cell_type": "code",
   "execution_count": 6,
   "id": "cf027312-faf6-4c8f-8dc9-8f6b8e5da988",
   "metadata": {
    "tags": []
   },
   "outputs": [],
   "source": [
    "products = [\"t-shirt\", \"mug\", \"hat\", \"book\", \"keychain\"]\n",
    "inventory = {}"
   ]
  },
  {
   "cell_type": "code",
   "execution_count": 118,
   "id": "8bbc34a1-2566-4e16-9e7d-12d083804019",
   "metadata": {
    "tags": []
   },
   "outputs": [
    {
     "data": {
      "text/plain": [
       "{'t-shirt': 15, 'mug': 7, 'hat': 16, 'book': 7, 'keychain': 7}"
      ]
     },
     "execution_count": 118,
     "metadata": {},
     "output_type": "execute_result"
    }
   ],
   "source": [
    "inventory.keys()\n",
    "inventory"
   ]
  },
  {
   "cell_type": "code",
   "execution_count": 19,
   "id": "4d312464-8a2a-4f58-b38f-52ba67d91e8a",
   "metadata": {
    "tags": []
   },
   "outputs": [
    {
     "name": "stdin",
     "output_type": "stream",
     "text": [
      "Which product do you wish to update? mug\n",
      "How many do we have? 9\n"
     ]
    },
    {
     "name": "stdout",
     "output_type": "stream",
     "text": [
      "{'t-shirt': 15, 'mug': 9, 'hat': 16, 'book': 9, 'keychain': 9}\n"
     ]
    }
   ],
   "source": [
    "#using loop to improve product input\n",
    "product = input(\"Which product do you wish to update?\")\n",
    "i = False\n",
    "\n",
    "while i == False:\n",
    "    if product in products:\n",
    "        prod_num = int(input(\"How many do we have?\"))\n",
    "        i = True\n",
    "    else:\n",
    "        print(\"Please enter a valid product\")\n",
    "        product = input(\"Which product do you wish to update?\")\n",
    "\n",
    "inventory[product] = prod_num\n",
    "print(inventory)"
   ]
  },
  {
   "cell_type": "code",
   "execution_count": 76,
   "id": "5060073b-d9aa-49c2-ad48-df679588c872",
   "metadata": {
    "tags": []
   },
   "outputs": [],
   "source": [
    "customer_orders = set()"
   ]
  },
  {
   "cell_type": "code",
   "execution_count": 131,
   "id": "f024de2f-1cf0-4231-b835-2c426d5e3139",
   "metadata": {
    "tags": []
   },
   "outputs": [
    {
     "name": "stdin",
     "output_type": "stream",
     "text": [
      "Which product would you like to order? key\n"
     ]
    },
    {
     "name": "stdout",
     "output_type": "stream",
     "text": [
      "I'm afraid we don't have that right now\n"
     ]
    },
    {
     "name": "stdin",
     "output_type": "stream",
     "text": [
      "Would you like to order another product? Yes/No yes\n",
      "Which product would you like to order? keychain\n",
      "Would you like to order another product? Yes/No yes\n",
      "Which product would you like to order? book\n",
      "Would you like to order another product? Yes/No yes\n",
      "Which product would you like to order? mug\n",
      "Would you like to order another product? Yes/No no\n"
     ]
    },
    {
     "name": "stdout",
     "output_type": "stream",
     "text": [
      "Customers have ordered: {'keychain', 'book', 'mug'}\n"
     ]
    }
   ],
   "source": [
    "# Step 2: Adding customer orders\n",
    "\n",
    "user_go = False\n",
    "\n",
    "while user_go == False:\n",
    "    prod = input(\"Which product would you like to order?\")\n",
    "    \n",
    "    # Check if valid product\n",
    "    if prod in products:\n",
    "        customer_orders.add(prod)\n",
    "    else:\n",
    "        print(\"I'm afraid we don't have that right now\")\n",
    "    user_answer = input(\"Would you like to order another product? Yes/No\")\n",
    "    answer_good = False\n",
    "    \n",
    "    # Check if valid answer\n",
    "    while answer_good == False:\n",
    "        if user_answer.lower() == \"yes\" or user_answer.lower() == \"no\":\n",
    "            answer_good = True\n",
    "        else:\n",
    "            user_answer = input(\"Please enter yes or no! Would you like to order another product?\")\n",
    "    \n",
    "    # Action answer to restart or end loop\n",
    "    if user_answer.lower() == \"no\":\n",
    "        user_go = True\n",
    "    else:\n",
    "        user_go = False\n",
    "\n",
    "print(\"Customers have ordered:\",customer_orders)"
   ]
  },
  {
   "cell_type": "code",
   "execution_count": 133,
   "id": "83612c7a-eb7a-43a2-98fd-11bbaccc95cb",
   "metadata": {
    "tags": []
   },
   "outputs": [
    {
     "name": "stdout",
     "output_type": "stream",
     "text": [
      "{'t-shirt': 15, 'mug': 6, 'hat': 16, 'book': 6, 'keychain': 6}\n"
     ]
    }
   ],
   "source": [
    "# Step 3: Removing items from inventory according to customer orders\n",
    "\n",
    "for prod in customer_orders:\n",
    "    if prod in inventory:\n",
    "        inventory[prod] -= 1\n",
    "print(inventory)"
   ]
  },
  {
   "cell_type": "code",
   "execution_count": null,
   "id": "176d4d1b-856b-46f1-abfd-a6800da5364a",
   "metadata": {},
   "outputs": [],
   "source": []
  }
 ],
 "metadata": {
  "kernelspec": {
   "display_name": "Python 3 (ipykernel)",
   "language": "python",
   "name": "python3"
  },
  "language_info": {
   "codemirror_mode": {
    "name": "ipython",
    "version": 3
   },
   "file_extension": ".py",
   "mimetype": "text/x-python",
   "name": "python",
   "nbconvert_exporter": "python",
   "pygments_lexer": "ipython3",
   "version": "3.11.7"
  }
 },
 "nbformat": 4,
 "nbformat_minor": 5
}
